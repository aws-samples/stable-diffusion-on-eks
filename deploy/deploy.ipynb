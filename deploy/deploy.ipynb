{
 "cells": [
  {
   "cell_type": "markdown",
   "id": "65711416-e4bd-4ba9-9189-9d4b3817f277",
   "metadata": {},
   "source": [
    "### 一. 基本环境初始化"
   ]
  },
  {
   "cell_type": "markdown",
   "id": "e47f4dba-4f59-4b55-9496-2959c74eed45",
   "metadata": {},
   "source": [
    "#### 1. 初始化基本环境"
   ]
  },
  {
   "cell_type": "code",
   "execution_count": null,
   "id": "7aa2cef0-b28c-4247-a7c1-f3e90f2ee209",
   "metadata": {
    "tags": [],
    "vscode": {
     "languageId": "plaintext"
    }
   },
   "outputs": [],
   "source": [
    "%%bash\n",
    "sudo chmod +x init-env.sh\n",
    "./init-env.sh"
   ]
  },
  {
   "cell_type": "markdown",
   "id": "096642a4-e2f0-4c7d-9da9-4eb02857717c",
   "metadata": {},
   "source": [
    "### 二. 镜像及Snapshot制备"
   ]
  },
  {
   "cell_type": "markdown",
   "id": "805799f3-9685-4855-b91a-a55385608c83",
   "metadata": {},
   "source": [
    "#### 1. 镜像制作(~15min)"
   ]
  },
  {
   "cell_type": "code",
   "execution_count": null,
   "id": "09379f29-9d52-4716-bf09-e3fd37193bc4",
   "metadata": {
    "scrolled": true,
    "tags": []
   },
   "outputs": [],
   "source": [
    "import boto3,os\n",
    "account_id = boto3.client(\"sts\").get_caller_identity().get(\"Account\")\n",
    "region_name = boto3.session.Session().region_name\n",
    "os.chdir('/home/ec2-user/SageMaker/stable-diffusion-on-eks/deploy/tools')\n",
    "cmd = \"/bin/sh ./build_and_push.sh %s\" %(region_name)\n",
    "os.system(cmd)"
   ]
  },
  {
   "cell_type": "markdown",
   "id": "bd29a7d6-b866-4ff7-8f42-3c5722b66b02",
   "metadata": {},
   "source": [
    "上述命令执行完成后,请检查ECR中是否有对应的存储库和镜像"
   ]
  },
  {
   "cell_type": "markdown",
   "id": "1d6b26fd-02a3-47c5-b9a9-f508d9555619",
   "metadata": {},
   "source": [
    "#### 2. Snapshot 制作(这一步是可选项,建议在业务代码开发调试完成后再做)(~20min)"
   ]
  },
  {
   "cell_type": "code",
   "execution_count": null,
   "id": "ac527fc1-9512-48db-a2dd-02f52e3dc254",
   "metadata": {
    "scrolled": true,
    "tags": []
   },
   "outputs": [],
   "source": [
    "import boto3,os\n",
    "account_id = boto3.client(\"sts\").get_caller_identity().get(\"Account\")\n",
    "region_name = boto3.session.Session().region_name\n",
    "Infer_API_IMG= \"%s.dkr.ecr.%s.amazonaws.com/sd-on-eks/inference-api:latest\" %(account_id,region_name)\n",
    "Queue_Agent_IMG= \"%s.dkr.ecr.%s.amazonaws.com/sd-on-eks/queue-agent:latest\" %(account_id,region_name)\n",
    "OCI_URL = \"oci://%s.dkr.ecr.%s.amazonaws.com/sd-on-eks/charts/\" %(account_id,region_name)\n",
    "print (\"OCI_URL is :\",OCI_URL)\n",
    "os.chdir('/home/ec2-user/SageMaker/stable-diffusion-on-eks/utils/bottlerocket-images-cache')\n",
    "cmd = \"/bin/sh ./snapshot.sh %s %s\" %(Infer_API_IMG,Queue_Agent_IMG)\n",
    "os.system(cmd)"
   ]
  },
  {
   "cell_type": "code",
   "execution_count": null,
   "id": "809e2897-4785-48bb-9927-91dae6d94de9",
   "metadata": {},
   "outputs": [],
   "source": [
    "#记录上面输出的snapshot id"
   ]
  },
  {
   "cell_type": "markdown",
   "id": "dd9fd608-411e-4d84-899c-5c3846228609",
   "metadata": {},
   "source": [
    "### 三. CDK 部署"
   ]
  },
  {
   "cell_type": "markdown",
   "id": "c2c0795e-0bd2-40c1-903a-47989ffcaa13",
   "metadata": {},
   "source": [
    "#### 修改 config.yaml文件,参考编辑Sample目录下的config.yaml文件,注意标点和格式"
   ]
  },
  {
   "cell_type": "markdown",
   "id": "8ad56d30-d292-4645-8444-5dcc6fab3204",
   "metadata": {},
   "source": [
    "根据实际情况修改,模型S3桶arn,runtime 模型,自建ECR,Snapshot ID(如果启用)等.编辑后保存"
   ]
  },
  {
   "cell_type": "code",
   "execution_count": null,
   "id": "db411cc7",
   "metadata": {},
   "outputs": [],
   "source": [
    "#已经在NotebookInstanceLifecycleConfig中echo \"export s3uri=${S3Bucket}\" >> /etc/profile.d/jupyter-env.sh\n",
    "! echo \"arn:aws:s3:::$s3uri\""
   ]
  },
  {
   "cell_type": "markdown",
   "id": "633fa3a0-be7f-4a69-a63d-85845aec91aa",
   "metadata": {},
   "source": [
    "#### 执行CDK 部署 (~20min)"
   ]
  },
  {
   "cell_type": "code",
   "execution_count": null,
   "id": "5383b24a-0d9d-4f25-a410-dc8322ae8ac2",
   "metadata": {
    "scrolled": true,
    "tags": []
   },
   "outputs": [],
   "source": [
    "import os\n",
    "os.chdir('/home/ec2-user/SageMaker/stable-diffusion-on-eks/deploy/')\n",
    "cmd = \"/bin/sh ./cdk_deploy.sh\"\n",
    "os.system(cmd)"
   ]
  },
  {
   "cell_type": "code",
   "execution_count": 10,
   "id": "01e3ce86",
   "metadata": {},
   "outputs": [
    {
     "name": "stdout",
     "output_type": "stream",
     "text": [
      "\"CREATE_COMPLETE\"\n"
     ]
    }
   ],
   "source": [
    "#等待cloudformation 执行完成\n",
    "!aws cloudformation describe-stacks --stack-name SdOnEksStack --output json --query 'Stacks[0].StackStatus'"
   ]
  },
  {
   "cell_type": "markdown",
   "id": "7f7b86da-cf73-4399-bcd1-7e4590e62edd",
   "metadata": {},
   "source": [
    "执行完毕后从cloudformation输出记录 APIGateway 地址"
   ]
  },
  {
   "cell_type": "code",
   "execution_count": 13,
   "id": "50ccc101",
   "metadata": {},
   "outputs": [],
   "source": [
    "APIGW_URL=\"$(aws cloudformation describe-stacks --stack-name SdOnEksStack --output text --query 'Stacks[0].Outputs[?OutputKey==`FrontApiEndpoint`].OutputValue')\""
   ]
  },
  {
   "cell_type": "code",
   "execution_count": null,
   "id": "d7e1e2fa-2525-4eef-a0b3-83a2b1706318",
   "metadata": {
    "tags": []
   },
   "outputs": [],
   "source": [
    "!echo \"APIGW URL:\" $APIGW_URL"
   ]
  },
  {
   "cell_type": "markdown",
   "id": "481c49d3-9881-4a2a-8c9c-8d3af7c49f46",
   "metadata": {},
   "source": [
    "执行完毕后如果需要管理EKS,则执行以下命令,输出记录 eks config update命令,拷贝到bash中执行"
   ]
  },
  {
   "cell_type": "code",
   "execution_count": null,
   "id": "afe8fd45",
   "metadata": {},
   "outputs": [],
   "source": [
    "!aws cloudformation describe-stacks --stack-name SdOnEksStack --output text --query 'Stacks[0].Outputs[?OutputKey==`ConfigCommand`].OutputValue'"
   ]
  },
  {
   "cell_type": "markdown",
   "id": "7e1a84e4-bb6d-4e4a-9b9c-d8cf70eb8495",
   "metadata": {},
   "source": [
    "### 四. 模型下载"
   ]
  },
  {
   "cell_type": "markdown",
   "id": "8a37d142-fa3c-41a9-8843-8235b32721f3",
   "metadata": {},
   "source": [
    "(根据模型大小,所需时间也不同)"
   ]
  },
  {
   "cell_type": "markdown",
   "id": "aac99149-ca16-4956-b80a-8fdd4efe17a9",
   "metadata": {},
   "source": [
    "找到tools目录下S3uploader文件夹,修改其中的down.csv \n",
    "修改模型下载url,和目标key列(严格按照prefix/key的结构)后保存\n",
    "\n",
    "其中prefix 允许值:\"stable-diffusion\",\"lora\",\"vae\",\"embeddings\""
   ]
  },
  {
   "cell_type": "code",
   "execution_count": null,
   "id": "1cd987c9",
   "metadata": {
    "scrolled": true,
    "tags": []
   },
   "outputs": [],
   "source": [
    "%%bash\n",
    "cd /home/ec2-user/SageMaker/stable-diffusion-on-eks/deploy/tools/S3uploader\n",
    "sed -i \"s/\\,\\,/\\,$s3uri,/g\" down.csv\n",
    "python3 s3uploader.py down.csv"
   ]
  },
  {
   "cell_type": "markdown",
   "id": "904980e5-3fa4-4604-b469-eab5829fe2f1",
   "metadata": {},
   "source": [
    "#### 五.请求测试"
   ]
  },
  {
   "cell_type": "code",
   "execution_count": null,
   "id": "983548ad-0617-4ac9-9d5a-2c6d76b6a7c8",
   "metadata": {
    "tags": []
   },
   "outputs": [],
   "source": [
    "## 获取API URL"
   ]
  },
  {
   "cell_type": "code",
   "execution_count": 28,
   "id": "cd4b8eda-6fb5-4e39-a5fc-2720320bd70a",
   "metadata": {
    "tags": []
   },
   "outputs": [
    {
     "name": "stdout",
     "output_type": "stream",
     "text": [
      "API URL: https://fy0rwyomqi.execute-api.us-west-2.amazonaws.com/prod/\n"
     ]
    }
   ],
   "source": [
    "!echo \"API URL:\" $APIGW_URL"
   ]
  },
  {
   "cell_type": "code",
   "execution_count": null,
   "id": "8474a4f1-7bc7-4468-b695-e9e0b9db0678",
   "metadata": {},
   "outputs": [],
   "source": [
    "## 获取API key"
   ]
  },
  {
   "cell_type": "code",
   "execution_count": 31,
   "id": "f302b3b1-f50e-4560-9892-63c09e0ce4cc",
   "metadata": {
    "tags": []
   },
   "outputs": [],
   "source": [
    "getkey=\"$(aws cloudformation describe-stacks --stack-name SdOnEksStack --output text --query 'Stacks[0].Outputs[?OutputKey==`GetAPIKeyCommand`].OutputValue')\""
   ]
  },
  {
   "cell_type": "code",
   "execution_count": 44,
   "id": "35a78007-6df8-4c4f-b5f4-52b163664592",
   "metadata": {
    "tags": []
   },
   "outputs": [
    {
     "name": "stdout",
     "output_type": "stream",
     "text": [
      "None\n"
     ]
    }
   ],
   "source": [
    "!$getkey"
   ]
  }
 ],
 "metadata": {
  "kernelspec": {
   "display_name": "conda_python3",
   "language": "python",
   "name": "conda_python3"
  },
  "language_info": {
   "codemirror_mode": {
    "name": "ipython",
    "version": 3
   },
   "file_extension": ".py",
   "mimetype": "text/x-python",
   "name": "python",
   "nbconvert_exporter": "python",
   "pygments_lexer": "ipython3",
   "version": "3.10.12"
  }
 },
 "nbformat": 4,
 "nbformat_minor": 5
}
